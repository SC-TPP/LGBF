{
 "cells": [
  {
   "cell_type": "code",
   "execution_count": 7,
   "metadata": {},
   "outputs": [],
   "source": [
    "import plotly.graph_objects as go\n",
    "import plotly.io as pio\n",
    "import pandas as pd"
   ]
  },
  {
   "attachments": {},
   "cell_type": "markdown",
   "metadata": {},
   "source": [
    "### Import & Filter Data"
   ]
  },
  {
   "cell_type": "code",
   "execution_count": 8,
   "metadata": {},
   "outputs": [
    {
     "name": "stdout",
     "output_type": "stream",
     "text": [
      "IndicatorData_SelectedLA\n",
      "['Code', 'Period', 'Value', 'FamilyRank', 'LineType']\n",
      "FamilyGroupData_SelectedLA\n",
      "['Code', 'Period', 'Value_FG_Mean', 'Value_FG_Median', 'LineType']\n",
      "IndicatorInfo\n",
      "['Title', 'Code', 'Code_Sortable', 'ReportingPeriod', 'MeasureType', 'NumberFormat', 'YMin', 'YMax', 'ISCategory', 'Committee', 'FamilyGrouping', 'StirlingService', 'Ranking_Type', 'NumberFormat_NoText', 'Source', 'Numerator_Correct', 'Denominator_Correct', 'Numerator_Match', 'Denominator_Match', 'Numerator_Multipier', 'Denominator_Multiplier', 'Ranking_GoldilocksMidpoint', 'NumberFormat_Axis', 'Format_Python', 'FormatAxis_Python', 'AdditionalAxisDenominator_Python', 'FormatAxis_Plotly_Prefix', 'FormatAxis_Plotly_Suffix', 'ImgPxlWidth_Plotly', 'ImgPxlHeight_Plotly', 'SubGroup_PythonReport', 'YMin_Plotly', 'YMax_Plotly', 'OData__ColorTag']\n"
     ]
    }
   ],
   "source": [
    "# Define Local Authority\n",
    "LocalAuthority = '\"Stirling\"'\n",
    "# Load Family Groups data file and extract the two relevant Family Groups for the selected Local Authority\n",
    "FamilyGroups = pd.read_csv(\"Data Files//Family Groups.csv\")\n",
    "FamilyGroup_EnvEco = FamilyGroups.query(f'Local_Authority == {LocalAuthority} & Type == \"Environmental, Culture & Leisure, Economic Development, Corporate and Property indicators\"').iloc[0].Family_Group\n",
    "FamilyGroup_ChildHouse = FamilyGroups.query(f'Local_Authority == {LocalAuthority} & Type == \"Children, Social Work and Housing indicators\"').iloc[0].Family_Group\n",
    "\n",
    "# Load Family Group Averages data file, load and merge this with the indicator data and then use the family group types above to filter the averages for the appropriate Code and Family Group combinations\n",
    "FamilyGroupData = pd.read_csv(\"Data Files//Family Averages.csv\")\n",
    "IndicatorInfo = pd.read_csv(\"Data Files//Indicator Information.csv\")\n",
    "AlternateLines = pd.read_csv(\"Data Files//Alternative Lines.csv\")\n",
    "AlternateLines = AlternateLines[['Key_CodePeriod', 'LineType']]\n",
    "FamilyGroupData = FamilyGroupData.merge(IndicatorInfo[['Code_Sortable', 'FamilyGrouping']], how='left', left_on=['Code'], right_on=['Code_Sortable'], suffixes=('_FGAverages', '_Info'))\n",
    "FamilyGroupData_SelectedLA = FamilyGroupData.query(f'(FamilyGrouping == \"Environmental, Culture & Leisure, Economic Development, Corporate and Property indicators\" & Family_Group == \"{FamilyGroup_EnvEco}\" | FamilyGrouping == \"Children, Social Work and Housing indicators\" & Family_Group == \"{FamilyGroup_ChildHouse}\") & `Data Type` == \"Real_Annual\"')\n",
    "FamilyGroupData_SelectedLA = FamilyGroupData_SelectedLA[['Code', 'Period', 'Value_FG_Mean', 'Value_FG_Median']]\n",
    "FamilyGroupData_SelectedLA['Key_CodePeriod'] = FamilyGroupData_SelectedLA['Code'] + FamilyGroupData_SelectedLA['Period']\n",
    "FamilyGroupData_SelectedLA = FamilyGroupData_SelectedLA.merge(AlternateLines, how='left', on='Key_CodePeriod', suffixes=('_Family', '_Alternate'))\n",
    "FamilyGroupData_SelectedLA = FamilyGroupData_SelectedLA[['Code', 'Period', 'Value_FG_Mean', 'Value_FG_Median', 'LineType']]\n",
    "\n",
    "# Load Indicator Data and filter it for the selected Local Authority\n",
    "IndicatorData = pd.read_csv(\"Data Files//Indicator Data.csv\")\n",
    "IndicatorData_SelectedLA = IndicatorData.query(f'LocalAuthority == {LocalAuthority} & `Data Type` == \"Real_Annual\"')[['Code', 'Period', 'Value', 'FamilyRank']]\n",
    "IndicatorData_SelectedLA['Key_CodePeriod'] = IndicatorData_SelectedLA['Code'] + IndicatorData_SelectedLA['Period']\n",
    "IndicatorData_SelectedLA = IndicatorData_SelectedLA.merge(AlternateLines, how='left', on='Key_CodePeriod', suffixes=('_Indicator', '_Alternate'))\n",
    "IndicatorData_SelectedLA = IndicatorData_SelectedLA[['Code', 'Period', 'Value', 'FamilyRank', 'LineType']]\n",
    "IndicatorData_SelectedLA\n",
    "\n",
    "# Print column names as reference\n",
    "print(\"IndicatorData_SelectedLA\")\n",
    "print(list(IndicatorData_SelectedLA.columns.values))\n",
    "print(\"FamilyGroupData_SelectedLA\")\n",
    "print(list(FamilyGroupData_SelectedLA.columns.values))\n",
    "print(\"IndicatorInfo\")\n",
    "print(list(IndicatorInfo.columns.values))"
   ]
  },
  {
   "attachments": {},
   "cell_type": "markdown",
   "metadata": {},
   "source": [
    "### Fix Data Series Gaps by Copying First row of each alternate LineType"
   ]
  },
  {
   "cell_type": "code",
   "execution_count": 9,
   "metadata": {},
   "outputs": [],
   "source": [
    "def addGaps(df) :\n",
    "    df.sort_values(by=['Code','Period'], inplace=True)\n",
    "    df.reset_index(drop=True)\n",
    "    df['LineType'] = df['LineType'].fillna('')\n",
    "    previousrow = {}\n",
    "    additions = []\n",
    "    for k, row in df.iterrows() :\n",
    "        if len(previousrow) == 0 :\n",
    "            previousrow = row\n",
    "        elif previousrow.LineType != row.LineType and previousrow.Code == row.Code :\n",
    "            addition = previousrow\n",
    "            addition.LineType = row.LineType\n",
    "            additions.append(addition)\n",
    "            previousrow = row\n",
    "        else :\n",
    "            previousrow = row\n",
    "    # additions = pd.DataFrame(additions).reset_index(drop=True)\n",
    "    df = df.append(additions, ignore_index=True)\n",
    "    df.sort_values(by=['Code', 'Period'], inplace=True)\n",
    "    df.reset_index(drop=True)\n",
    "    return df\n",
    "FamilyGroupData_SelectedLA = addGaps(FamilyGroupData_SelectedLA)\n",
    "IndicatorData_SelectedLA = addGaps(IndicatorData_SelectedLA)"
   ]
  },
  {
   "attachments": {},
   "cell_type": "markdown",
   "metadata": {},
   "source": [
    "### Define Graph creation functions"
   ]
  },
  {
   "cell_type": "code",
   "execution_count": 10,
   "metadata": {},
   "outputs": [],
   "source": [
    "\n",
    "\n",
    "# Define function to extract line series information filtered for the identified indicator code from the dataframes and combines into a single dataframe for the purpose of graphing.\n",
    "def extractLineSeries (Code, LAData = IndicatorData_SelectedLA,FGData = FamilyGroupData_SelectedLA) :\n",
    "    IndiData = LAData.query(f'Code == \"{Code}\"')[['Period','Value','FamilyRank','LineType']]\n",
    "    IndiData['FormattedFamilyRank'] = \"#\" + IndiData['FamilyRank'].map(int).map(str)\n",
    "    FGData = FGData.query(f'Code == \"{Code}\"')[['Period', 'Value_FG_Median']]\n",
    "    Data = FGData.merge(IndiData,how = 'left', on = ['Period'], suffixes = ('_FG','_Indi'))\n",
    "    return Data\n",
    "\n",
    "\n",
    "def addSpecificTrace(Color, DataSlice_Y, DataSlice_X, Name, LineType,Fill,ShowLegend, Chart):\n",
    "    Chart.add_trace(\n",
    "        go.Scatter(\n",
    "            x=DataSlice_X,\n",
    "            y=DataSlice_Y,\n",
    "            name=Name,\n",
    "            mode='lines',\n",
    "            fill = Fill,\n",
    "            showlegend = ShowLegend,\n",
    "            line=dict(\n",
    "                color=Color,\n",
    "                width=4,\n",
    "                shape='spline',\n",
    "                smoothing=0.7,\n",
    "                dash=LineType\n",
    "            )\n",
    "        )\n",
    "    )\n",
    "    return Chart\n",
    "\n",
    "# Define function to create a standard styled line chart for a given set of data.\n",
    "def createLineChart(Data,Format,Prefix,Suffix,Ymax,Ymin) :\n",
    "    Chart = go.Figure()\n",
    "    # Add local authority values as area line.\n",
    "    addSpecificTrace('#5d2381', Data.query(f'LineType == \"\"')['Value'], Data['Period'], LocalAuthority, None,'tozeroy',True, Chart)\n",
    "    addSpecificTrace('#5d2381', Data.query(f'LineType == \"Dashed\"')['Value'], Data.query(f'LineType == \"Dashed\"')['Period'], \"DashedLineLA\", \"dash\", 'tozeroy',False, Chart)\n",
    "    addSpecificTrace('#23815d', Data.query(f'LineType == \"\"')['Value_FG_Median'], Data['Period'], \"Family Group Median\", None, None, True, Chart)\n",
    "    addSpecificTrace('#23815d', Data.query(f'LineType == \"Dashed\"')['Value_FG_Median'], Data.query(f'LineType == \"Dashed\"')['Period'], \"DashedLineFG\", \"dash\", None, False, Chart)\n",
    "    # Format chart\n",
    "    Chart.update_layout(\n",
    "        xaxis_type ='category',\n",
    "        plot_bgcolor =  'rgba(0, 0, 0, 0)',\n",
    "        width = 700,\n",
    "        height = 400,\n",
    "        font = \n",
    "            dict(\n",
    "                    family = \"Segoe UI Semibold\",\n",
    "                    color = \"black\"\n",
    "                ),\n",
    "        margin = \n",
    "            dict(\n",
    "                    b = 10,\n",
    "                    l = 10,\n",
    "                    r = 10,\n",
    "                    t = 10,\n",
    "                    pad = 10\n",
    "                ),\n",
    "        legend =\n",
    "            dict(\n",
    "                orientation = 'h',\n",
    "                xanchor = 'left',\n",
    "                x = 0,\n",
    "                yanchor = 'top',\n",
    "                y = 1.1,\n",
    "                bgcolor = 'rgba(0, 0, 0, 0)',\n",
    "                itemsizing = 'constant',\n",
    "                font =\n",
    "                    dict(\n",
    "                        size = 15,\n",
    "                    )\n",
    "            ),\n",
    "        yaxis = \n",
    "            dict(\n",
    "                gridcolor = '#ededed',\n",
    "                tickformat = Format,\n",
    "                tickprefix = Prefix,\n",
    "                ticksuffix = Suffix,\n",
    "                tickfont = dict(size = 15),\n",
    "                range = [Ymin,Ymax]\n",
    "            ),\n",
    "        xaxis = dict(\n",
    "            tickfont = dict(size = 15)\n",
    "        )\n",
    "    )\n",
    "    return Chart\n",
    "\n",
    "\n"
   ]
  },
  {
   "attachments": {},
   "cell_type": "markdown",
   "metadata": {},
   "source": [
    "## Create Graphs using Functions for each Indicator Code"
   ]
  },
  {
   "cell_type": "code",
   "execution_count": 11,
   "metadata": {},
   "outputs": [],
   "source": [
    "LocalAuthority = 'Stirling'\n",
    "for row in IndicatorInfo.itertuples() :\n",
    "    # Filter main dataframes for particular indicator data and separate into arrays\n",
    "    Code = row.Code_Sortable\n",
    "    Format = row.FormatAxis_Python\n",
    "    Ymax = row.YMax_Plotly\n",
    "    Ymin = row.YMin_Plotly\n",
    "    if pd.isnull(row.FormatAxis_Plotly_Prefix) :\n",
    "        Prefix = \"\"\n",
    "    else :\n",
    "        Prefix = row.FormatAxis_Plotly_Prefix\n",
    "    if pd.isnull(row.FormatAxis_Plotly_Suffix) :\n",
    "        Suffix = \"\"\n",
    "    else :\n",
    "        Suffix = row.FormatAxis_Plotly_Suffix\n",
    "    #Format = row.Format_Python\n",
    "    Data = extractLineSeries(Code)\n",
    "    # Create line charts and export these to png\n",
    "    LineChart = createLineChart(Data,Format, Prefix, Suffix, Ymax, Ymin)\n",
    "    LineChart.write_image(f'Graphs//{Code}_Line.svg', width = f'{row.ImgPxlWidth_Plotly}', height = f'{row.ImgPxlHeight_Plotly}')"
   ]
  },
  {
   "attachments": {},
   "cell_type": "markdown",
   "metadata": {},
   "source": [
    "#### Show Graph Examples"
   ]
  },
  {
   "cell_type": "code",
   "execution_count": 12,
   "metadata": {},
   "outputs": [
    {
     "data": {
      "application/vnd.plotly.v1+json": {
       "config": {
        "plotlyServerURL": "https://plot.ly"
       },
       "data": [
        {
         "fill": "tozeroy",
         "line": {
          "color": "#5d2381",
          "shape": "spline",
          "smoothing": 0.7,
          "width": 4
         },
         "mode": "lines",
         "name": "Stirling",
         "showlegend": true,
         "type": "scatter",
         "x": [
          "2017-18",
          "2018-19",
          "2019-20",
          "2020-21",
          "2021-22",
          "2022-23"
         ],
         "y": [
          1.3391,
          1.4312,
          0.9719,
          0.8717,
          0.840401375,
          0.847296361
         ]
        },
        {
         "fill": "tozeroy",
         "line": {
          "color": "#5d2381",
          "dash": "dash",
          "shape": "spline",
          "smoothing": 0.7,
          "width": 4
         },
         "mode": "lines",
         "name": "DashedLineLA",
         "showlegend": false,
         "type": "scatter",
         "x": [],
         "y": []
        },
        {
         "line": {
          "color": "#23815d",
          "shape": "spline",
          "smoothing": 0.7,
          "width": 4
         },
         "mode": "lines",
         "name": "Family Group Median",
         "showlegend": true,
         "type": "scatter",
         "x": [
          "2017-18",
          "2018-19",
          "2019-20",
          "2020-21",
          "2021-22",
          "2022-23"
         ],
         "y": [
          0.9577,
          0.96225,
          0.9752,
          0.9208,
          0.8747060605,
          0.858918624
         ]
        },
        {
         "line": {
          "color": "#23815d",
          "dash": "dash",
          "shape": "spline",
          "smoothing": 0.7,
          "width": 4
         },
         "mode": "lines",
         "name": "DashedLineFG",
         "showlegend": false,
         "type": "scatter",
         "x": [],
         "y": []
        }
       ],
       "layout": {
        "font": {
         "color": "black",
         "family": "Segoe UI Semibold"
        },
        "height": 400,
        "legend": {
         "bgcolor": "rgba(0, 0, 0, 0)",
         "font": {
          "size": 15
         },
         "itemsizing": "constant",
         "orientation": "h",
         "x": 0,
         "xanchor": "left",
         "y": 1.1,
         "yanchor": "top"
        },
        "margin": {
         "b": 10,
         "l": 10,
         "pad": 10,
         "r": 10,
         "t": 10
        },
        "plot_bgcolor": "rgba(0, 0, 0, 0)",
        "template": {
         "data": {
          "bar": [
           {
            "error_x": {
             "color": "#2a3f5f"
            },
            "error_y": {
             "color": "#2a3f5f"
            },
            "marker": {
             "line": {
              "color": "#E5ECF6",
              "width": 0.5
             },
             "pattern": {
              "fillmode": "overlay",
              "size": 10,
              "solidity": 0.2
             }
            },
            "type": "bar"
           }
          ],
          "barpolar": [
           {
            "marker": {
             "line": {
              "color": "#E5ECF6",
              "width": 0.5
             },
             "pattern": {
              "fillmode": "overlay",
              "size": 10,
              "solidity": 0.2
             }
            },
            "type": "barpolar"
           }
          ],
          "carpet": [
           {
            "aaxis": {
             "endlinecolor": "#2a3f5f",
             "gridcolor": "white",
             "linecolor": "white",
             "minorgridcolor": "white",
             "startlinecolor": "#2a3f5f"
            },
            "baxis": {
             "endlinecolor": "#2a3f5f",
             "gridcolor": "white",
             "linecolor": "white",
             "minorgridcolor": "white",
             "startlinecolor": "#2a3f5f"
            },
            "type": "carpet"
           }
          ],
          "choropleth": [
           {
            "colorbar": {
             "outlinewidth": 0,
             "ticks": ""
            },
            "type": "choropleth"
           }
          ],
          "contour": [
           {
            "colorbar": {
             "outlinewidth": 0,
             "ticks": ""
            },
            "colorscale": [
             [
              0,
              "#0d0887"
             ],
             [
              0.1111111111111111,
              "#46039f"
             ],
             [
              0.2222222222222222,
              "#7201a8"
             ],
             [
              0.3333333333333333,
              "#9c179e"
             ],
             [
              0.4444444444444444,
              "#bd3786"
             ],
             [
              0.5555555555555556,
              "#d8576b"
             ],
             [
              0.6666666666666666,
              "#ed7953"
             ],
             [
              0.7777777777777778,
              "#fb9f3a"
             ],
             [
              0.8888888888888888,
              "#fdca26"
             ],
             [
              1,
              "#f0f921"
             ]
            ],
            "type": "contour"
           }
          ],
          "contourcarpet": [
           {
            "colorbar": {
             "outlinewidth": 0,
             "ticks": ""
            },
            "type": "contourcarpet"
           }
          ],
          "heatmap": [
           {
            "colorbar": {
             "outlinewidth": 0,
             "ticks": ""
            },
            "colorscale": [
             [
              0,
              "#0d0887"
             ],
             [
              0.1111111111111111,
              "#46039f"
             ],
             [
              0.2222222222222222,
              "#7201a8"
             ],
             [
              0.3333333333333333,
              "#9c179e"
             ],
             [
              0.4444444444444444,
              "#bd3786"
             ],
             [
              0.5555555555555556,
              "#d8576b"
             ],
             [
              0.6666666666666666,
              "#ed7953"
             ],
             [
              0.7777777777777778,
              "#fb9f3a"
             ],
             [
              0.8888888888888888,
              "#fdca26"
             ],
             [
              1,
              "#f0f921"
             ]
            ],
            "type": "heatmap"
           }
          ],
          "heatmapgl": [
           {
            "colorbar": {
             "outlinewidth": 0,
             "ticks": ""
            },
            "colorscale": [
             [
              0,
              "#0d0887"
             ],
             [
              0.1111111111111111,
              "#46039f"
             ],
             [
              0.2222222222222222,
              "#7201a8"
             ],
             [
              0.3333333333333333,
              "#9c179e"
             ],
             [
              0.4444444444444444,
              "#bd3786"
             ],
             [
              0.5555555555555556,
              "#d8576b"
             ],
             [
              0.6666666666666666,
              "#ed7953"
             ],
             [
              0.7777777777777778,
              "#fb9f3a"
             ],
             [
              0.8888888888888888,
              "#fdca26"
             ],
             [
              1,
              "#f0f921"
             ]
            ],
            "type": "heatmapgl"
           }
          ],
          "histogram": [
           {
            "marker": {
             "pattern": {
              "fillmode": "overlay",
              "size": 10,
              "solidity": 0.2
             }
            },
            "type": "histogram"
           }
          ],
          "histogram2d": [
           {
            "colorbar": {
             "outlinewidth": 0,
             "ticks": ""
            },
            "colorscale": [
             [
              0,
              "#0d0887"
             ],
             [
              0.1111111111111111,
              "#46039f"
             ],
             [
              0.2222222222222222,
              "#7201a8"
             ],
             [
              0.3333333333333333,
              "#9c179e"
             ],
             [
              0.4444444444444444,
              "#bd3786"
             ],
             [
              0.5555555555555556,
              "#d8576b"
             ],
             [
              0.6666666666666666,
              "#ed7953"
             ],
             [
              0.7777777777777778,
              "#fb9f3a"
             ],
             [
              0.8888888888888888,
              "#fdca26"
             ],
             [
              1,
              "#f0f921"
             ]
            ],
            "type": "histogram2d"
           }
          ],
          "histogram2dcontour": [
           {
            "colorbar": {
             "outlinewidth": 0,
             "ticks": ""
            },
            "colorscale": [
             [
              0,
              "#0d0887"
             ],
             [
              0.1111111111111111,
              "#46039f"
             ],
             [
              0.2222222222222222,
              "#7201a8"
             ],
             [
              0.3333333333333333,
              "#9c179e"
             ],
             [
              0.4444444444444444,
              "#bd3786"
             ],
             [
              0.5555555555555556,
              "#d8576b"
             ],
             [
              0.6666666666666666,
              "#ed7953"
             ],
             [
              0.7777777777777778,
              "#fb9f3a"
             ],
             [
              0.8888888888888888,
              "#fdca26"
             ],
             [
              1,
              "#f0f921"
             ]
            ],
            "type": "histogram2dcontour"
           }
          ],
          "mesh3d": [
           {
            "colorbar": {
             "outlinewidth": 0,
             "ticks": ""
            },
            "type": "mesh3d"
           }
          ],
          "parcoords": [
           {
            "line": {
             "colorbar": {
              "outlinewidth": 0,
              "ticks": ""
             }
            },
            "type": "parcoords"
           }
          ],
          "pie": [
           {
            "automargin": true,
            "type": "pie"
           }
          ],
          "scatter": [
           {
            "marker": {
             "colorbar": {
              "outlinewidth": 0,
              "ticks": ""
             }
            },
            "type": "scatter"
           }
          ],
          "scatter3d": [
           {
            "line": {
             "colorbar": {
              "outlinewidth": 0,
              "ticks": ""
             }
            },
            "marker": {
             "colorbar": {
              "outlinewidth": 0,
              "ticks": ""
             }
            },
            "type": "scatter3d"
           }
          ],
          "scattercarpet": [
           {
            "marker": {
             "colorbar": {
              "outlinewidth": 0,
              "ticks": ""
             }
            },
            "type": "scattercarpet"
           }
          ],
          "scattergeo": [
           {
            "marker": {
             "colorbar": {
              "outlinewidth": 0,
              "ticks": ""
             }
            },
            "type": "scattergeo"
           }
          ],
          "scattergl": [
           {
            "marker": {
             "colorbar": {
              "outlinewidth": 0,
              "ticks": ""
             }
            },
            "type": "scattergl"
           }
          ],
          "scattermapbox": [
           {
            "marker": {
             "colorbar": {
              "outlinewidth": 0,
              "ticks": ""
             }
            },
            "type": "scattermapbox"
           }
          ],
          "scatterpolar": [
           {
            "marker": {
             "colorbar": {
              "outlinewidth": 0,
              "ticks": ""
             }
            },
            "type": "scatterpolar"
           }
          ],
          "scatterpolargl": [
           {
            "marker": {
             "colorbar": {
              "outlinewidth": 0,
              "ticks": ""
             }
            },
            "type": "scatterpolargl"
           }
          ],
          "scatterternary": [
           {
            "marker": {
             "colorbar": {
              "outlinewidth": 0,
              "ticks": ""
             }
            },
            "type": "scatterternary"
           }
          ],
          "surface": [
           {
            "colorbar": {
             "outlinewidth": 0,
             "ticks": ""
            },
            "colorscale": [
             [
              0,
              "#0d0887"
             ],
             [
              0.1111111111111111,
              "#46039f"
             ],
             [
              0.2222222222222222,
              "#7201a8"
             ],
             [
              0.3333333333333333,
              "#9c179e"
             ],
             [
              0.4444444444444444,
              "#bd3786"
             ],
             [
              0.5555555555555556,
              "#d8576b"
             ],
             [
              0.6666666666666666,
              "#ed7953"
             ],
             [
              0.7777777777777778,
              "#fb9f3a"
             ],
             [
              0.8888888888888888,
              "#fdca26"
             ],
             [
              1,
              "#f0f921"
             ]
            ],
            "type": "surface"
           }
          ],
          "table": [
           {
            "cells": {
             "fill": {
              "color": "#EBF0F8"
             },
             "line": {
              "color": "white"
             }
            },
            "header": {
             "fill": {
              "color": "#C8D4E3"
             },
             "line": {
              "color": "white"
             }
            },
            "type": "table"
           }
          ]
         },
         "layout": {
          "annotationdefaults": {
           "arrowcolor": "#2a3f5f",
           "arrowhead": 0,
           "arrowwidth": 1
          },
          "autotypenumbers": "strict",
          "coloraxis": {
           "colorbar": {
            "outlinewidth": 0,
            "ticks": ""
           }
          },
          "colorscale": {
           "diverging": [
            [
             0,
             "#8e0152"
            ],
            [
             0.1,
             "#c51b7d"
            ],
            [
             0.2,
             "#de77ae"
            ],
            [
             0.3,
             "#f1b6da"
            ],
            [
             0.4,
             "#fde0ef"
            ],
            [
             0.5,
             "#f7f7f7"
            ],
            [
             0.6,
             "#e6f5d0"
            ],
            [
             0.7,
             "#b8e186"
            ],
            [
             0.8,
             "#7fbc41"
            ],
            [
             0.9,
             "#4d9221"
            ],
            [
             1,
             "#276419"
            ]
           ],
           "sequential": [
            [
             0,
             "#0d0887"
            ],
            [
             0.1111111111111111,
             "#46039f"
            ],
            [
             0.2222222222222222,
             "#7201a8"
            ],
            [
             0.3333333333333333,
             "#9c179e"
            ],
            [
             0.4444444444444444,
             "#bd3786"
            ],
            [
             0.5555555555555556,
             "#d8576b"
            ],
            [
             0.6666666666666666,
             "#ed7953"
            ],
            [
             0.7777777777777778,
             "#fb9f3a"
            ],
            [
             0.8888888888888888,
             "#fdca26"
            ],
            [
             1,
             "#f0f921"
            ]
           ],
           "sequentialminus": [
            [
             0,
             "#0d0887"
            ],
            [
             0.1111111111111111,
             "#46039f"
            ],
            [
             0.2222222222222222,
             "#7201a8"
            ],
            [
             0.3333333333333333,
             "#9c179e"
            ],
            [
             0.4444444444444444,
             "#bd3786"
            ],
            [
             0.5555555555555556,
             "#d8576b"
            ],
            [
             0.6666666666666666,
             "#ed7953"
            ],
            [
             0.7777777777777778,
             "#fb9f3a"
            ],
            [
             0.8888888888888888,
             "#fdca26"
            ],
            [
             1,
             "#f0f921"
            ]
           ]
          },
          "colorway": [
           "#636efa",
           "#EF553B",
           "#00cc96",
           "#ab63fa",
           "#FFA15A",
           "#19d3f3",
           "#FF6692",
           "#B6E880",
           "#FF97FF",
           "#FECB52"
          ],
          "font": {
           "color": "#2a3f5f"
          },
          "geo": {
           "bgcolor": "white",
           "lakecolor": "white",
           "landcolor": "#E5ECF6",
           "showlakes": true,
           "showland": true,
           "subunitcolor": "white"
          },
          "hoverlabel": {
           "align": "left"
          },
          "hovermode": "closest",
          "mapbox": {
           "style": "light"
          },
          "paper_bgcolor": "white",
          "plot_bgcolor": "#E5ECF6",
          "polar": {
           "angularaxis": {
            "gridcolor": "white",
            "linecolor": "white",
            "ticks": ""
           },
           "bgcolor": "#E5ECF6",
           "radialaxis": {
            "gridcolor": "white",
            "linecolor": "white",
            "ticks": ""
           }
          },
          "scene": {
           "xaxis": {
            "backgroundcolor": "#E5ECF6",
            "gridcolor": "white",
            "gridwidth": 2,
            "linecolor": "white",
            "showbackground": true,
            "ticks": "",
            "zerolinecolor": "white"
           },
           "yaxis": {
            "backgroundcolor": "#E5ECF6",
            "gridcolor": "white",
            "gridwidth": 2,
            "linecolor": "white",
            "showbackground": true,
            "ticks": "",
            "zerolinecolor": "white"
           },
           "zaxis": {
            "backgroundcolor": "#E5ECF6",
            "gridcolor": "white",
            "gridwidth": 2,
            "linecolor": "white",
            "showbackground": true,
            "ticks": "",
            "zerolinecolor": "white"
           }
          },
          "shapedefaults": {
           "line": {
            "color": "#2a3f5f"
           }
          },
          "ternary": {
           "aaxis": {
            "gridcolor": "white",
            "linecolor": "white",
            "ticks": ""
           },
           "baxis": {
            "gridcolor": "white",
            "linecolor": "white",
            "ticks": ""
           },
           "bgcolor": "#E5ECF6",
           "caxis": {
            "gridcolor": "white",
            "linecolor": "white",
            "ticks": ""
           }
          },
          "title": {
           "x": 0.05
          },
          "xaxis": {
           "automargin": true,
           "gridcolor": "white",
           "linecolor": "white",
           "ticks": "",
           "title": {
            "standoff": 15
           },
           "zerolinecolor": "white",
           "zerolinewidth": 2
          },
          "yaxis": {
           "automargin": true,
           "gridcolor": "white",
           "linecolor": "white",
           "ticks": "",
           "title": {
            "standoff": 15
           },
           "zerolinecolor": "white",
           "zerolinewidth": 2
          }
         }
        },
        "width": 700,
        "xaxis": {
         "tickfont": {
          "size": 15
         },
         "type": "category"
        },
        "yaxis": {
         "gridcolor": "#ededed",
         "range": [
          0.7,
          1.5
         ],
         "tickfont": {
          "size": 15
         },
         "tickformat": ",.0%",
         "tickprefix": "",
         "ticksuffix": ""
        }
       }
      }
     },
     "metadata": {},
     "output_type": "display_data"
    }
   ],
   "source": [
    "LineChart.show()"
   ]
  }
 ],
 "metadata": {
  "kernelspec": {
   "display_name": "Python 3.9.2 64-bit",
   "language": "python",
   "name": "python3"
  },
  "language_info": {
   "codemirror_mode": {
    "name": "ipython",
    "version": 3
   },
   "file_extension": ".py",
   "mimetype": "text/x-python",
   "name": "python",
   "nbconvert_exporter": "python",
   "pygments_lexer": "ipython3",
   "version": "3.9.2"
  },
  "orig_nbformat": 4,
  "vscode": {
   "interpreter": {
    "hash": "082cb5a6e6caef79113e2314c0a6affd3a461b67b4107dd9944e1b636b56dc91"
   }
  }
 },
 "nbformat": 4,
 "nbformat_minor": 2
}
