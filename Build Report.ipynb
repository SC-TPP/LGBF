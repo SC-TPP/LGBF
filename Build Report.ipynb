{
 "cells": [
  {
   "cell_type": "code",
   "execution_count": 1,
   "metadata": {},
   "outputs": [],
   "source": [
    "from weasyprint import HTML\n",
    "import pandas as pd\n",
    "from jinja2 import Environment, FileSystemLoader"
   ]
  },
  {
   "cell_type": "markdown",
   "metadata": {},
   "source": [
    "## Load Latest Data to Dictionary (for simple code access reasons)"
   ]
  },
  {
   "cell_type": "code",
   "execution_count": 40,
   "metadata": {},
   "outputs": [
    {
     "data": {
      "text/plain": [
       "{'Period': '2020-21',\n",
       " 'Real_Value': 213.35156342884315,\n",
       " 'FamilyRank': 8.0,\n",
       " 'Previous_Row': '{\"Real_Value\": 2.422236746010734, \"Real_Numerator\": 2631527.689813045, \"Real_Denominator\": 1086404.0, \"Cash_Value\": 2.270794290153571, \"Cash_Numerator\": 2467000.0, \"Cash_Denominator\": 1086404.0, \"ScotRank\": 13.0, \"ScotPct\": 0.40625, \"FamilyRank\": 4.0, \"FamilyPct\": 0.5}',\n",
       " 'Changes': '{\"ScotRank_ChangeSincePrevious\": -18.0, \"ScotPct_ChangeSincePrevious\": -0.5625, \"FamilyRank_ChangeSincePrevious\": -4.0, \"FamilyPct_ChangeSincePrevious\": -0.5, \"ScotRank_ChangeSinceFirst\": -21.0, \"ScotPct_ChangeSinceFirst\": -0.65625, \"FamilyRank_ChangeSinceFirst\": -5.0, \"FamilyPct_ChangeSinceFirst\": -0.625, \"Real_Value_ChangeSincePrevious\": 210.92932668283242, \"Real_Numerator_ChangeSincePrevious\": 957472.3101869547, \"Real_Denominator_ChangeSincePrevious\": -1069582.0, \"Cash_Value_ChangeSincePrevious\": 211.08076913868962, \"Cash_Numerator_ChangeSincePrevious\": 1122000.0, \"Cash_Denominator_ChangeSincePrevious\": -1069582.0, \"Real_Value_ChangeSinceFirst\": 210.37984875213877, \"Real_Numerator_ChangeSinceFirst\": 752136.2413981692, \"Real_Denominator_ChangeSinceFirst\": -937245.0, \"Cash_Value_ChangeSinceFirst\": 210.97156342884318, \"Cash_Numerator_ChangeSinceFirst\": 1317000.0, \"Cash_Denominator_ChangeSinceFirst\": -937245.0, \"PercentChange_AimAdjusted_SincePrevious\": -87.08039254636, \"PercentChange_AimAdjusted_SinceFirst\": -70.79409419798304}'}"
      ]
     },
     "execution_count": 40,
     "metadata": {},
     "output_type": "execute_result"
    }
   ],
   "source": [
    "# Get Data from csv, filter for Stirling Council, strip uneeded columns, set the index of the dataframe to the code and then convert to a dictionary\n",
    "LatestData = pd.read_csv('Data Files//Latest Values.csv').query(f'Local_Authority == \"Stirling\"')[['Code','Period','Real_Value','FamilyRank','Previous_Row','Changes']].set_index('Code').to_dict(orient=\"index\")\n",
    "# Indicator data can now been accessed as below by referencing the code as the key within the dictionary\n",
    "LatestData['C&L 01']"
   ]
  },
  {
   "cell_type": "code",
   "execution_count": 37,
   "metadata": {},
   "outputs": [],
   "source": [
    "env = Environment(loader=FileSystemLoader('.'))\n",
    "template = env.get_template(\"/Pages/Layout.html\")"
   ]
  }
 ],
 "metadata": {
  "interpreter": {
   "hash": "2603da7b247af14415c5a23c4002977973d63b07d4c9faa8b19ff4b56c8a7c9a"
  },
  "kernelspec": {
   "display_name": "Python 3.9.2 64-bit",
   "language": "python",
   "name": "python3"
  },
  "language_info": {
   "codemirror_mode": {
    "name": "ipython",
    "version": 3
   },
   "file_extension": ".py",
   "mimetype": "text/x-python",
   "name": "python",
   "nbconvert_exporter": "python",
   "pygments_lexer": "ipython3",
   "version": "3.9.4"
  },
  "orig_nbformat": 4
 },
 "nbformat": 4,
 "nbformat_minor": 2
}
