{
 "cells": [
  {
   "cell_type": "code",
   "execution_count": 38,
   "metadata": {},
   "outputs": [],
   "source": [
    "import pandas as pd\n",
    "import json\n",
    "from jinja2 import Environment, FileSystemLoader\n",
    "from selenium import webdriver\n",
    "import os"
   ]
  },
  {
   "cell_type": "markdown",
   "metadata": {},
   "source": [
    "## Load Latest Data to Dictionary (for simple code access reasons)"
   ]
  },
  {
   "cell_type": "code",
   "execution_count": 39,
   "metadata": {},
   "outputs": [
    {
     "data": {
      "text/plain": [
       "{'Period': '2020-21',\n",
       " 'Real_Value': 213.35156342884315,\n",
       " 'FamilyRank': 8.0,\n",
       " 'Previous_Row': '{\"Real_Value\": 2.422236746010734, \"Real_Numerator\": 2631527.689813045, \"Real_Denominator\": 1086404.0, \"Cash_Value\": 2.270794290153571, \"Cash_Numerator\": 2467000.0, \"Cash_Denominator\": 1086404.0, \"ScotRank\": 13.0, \"ScotPct\": 0.40625, \"FamilyRank\": 4.0, \"FamilyPct\": 0.5}',\n",
       " 'Changes': {'ScotRank_ChangeSincePrevious': -18.0,\n",
       "  'ScotPct_ChangeSincePrevious': -0.5625,\n",
       "  'FamilyRank_ChangeSincePrevious': -4.0,\n",
       "  'FamilyPct_ChangeSincePrevious': -0.5,\n",
       "  'ScotRank_ChangeSinceFirst': -21.0,\n",
       "  'ScotPct_ChangeSinceFirst': -0.65625,\n",
       "  'FamilyRank_ChangeSinceFirst': -5.0,\n",
       "  'FamilyPct_ChangeSinceFirst': -0.625,\n",
       "  'Real_Value_ChangeSincePrevious': 210.92932668283242,\n",
       "  'Real_Numerator_ChangeSincePrevious': 957472.3101869547,\n",
       "  'Real_Denominator_ChangeSincePrevious': -1069582.0,\n",
       "  'Cash_Value_ChangeSincePrevious': 211.08076913868962,\n",
       "  'Cash_Numerator_ChangeSincePrevious': 1122000.0,\n",
       "  'Cash_Denominator_ChangeSincePrevious': -1069582.0,\n",
       "  'Real_Value_ChangeSinceFirst': 210.37984875213877,\n",
       "  'Real_Numerator_ChangeSinceFirst': 752136.2413981692,\n",
       "  'Real_Denominator_ChangeSinceFirst': -937245.0,\n",
       "  'Cash_Value_ChangeSinceFirst': 210.97156342884318,\n",
       "  'Cash_Numerator_ChangeSinceFirst': 1317000.0,\n",
       "  'Cash_Denominator_ChangeSinceFirst': -937245.0,\n",
       "  'PercentChange_AimAdjusted_SincePrevious': -87.08039254636,\n",
       "  'PercentChange_AimAdjusted_SinceFirst': -70.79409419798304},\n",
       " 'Code_Sortable': 'C&L 01',\n",
       " 'Title': 'Cost per attendance at Sports facilities',\n",
       " 'Format_Python': '£ {:0.2f}',\n",
       " 'AdditionalAxisDenominator_Python': 1,\n",
       " 'Real_Value_Formatted': '£ 213.35'}"
      ]
     },
     "execution_count": 39,
     "metadata": {},
     "output_type": "execute_result"
    }
   ],
   "source": [
    "# Get Data from csv, filter for Stirling Council, strip uneeded columns and convert Changes Json from String to Dictionary\n",
    "LatestData = pd.read_csv('Data Files//Latest Values.csv', converters={'Changes': json.loads}).query(f'Local_Authority == \"Stirling\"')[['Code','Period','Real_Value','FamilyRank','Previous_Row','Changes']]\n",
    "# Get indicator info from csv and merge titles into LatestData\n",
    "Info = pd.read_csv('Data Files//Indicator Information.csv')\n",
    "LatestData = LatestData.merge(Info[['Code_Sortable','Title','Format_Python','AdditionalAxisDenominator_Python']], how='left', left_on=['Code'], right_on=['Code_Sortable'], suffixes = ('_latest','_info'))\n",
    "def formatvalue (df) : \n",
    "    df['Real_Value_Formatted'] = df['Format_Python'].format(df['Real_Value']/df['AdditionalAxisDenominator_Python'])\n",
    "    return df['Real_Value_Formatted']\n",
    "LatestData['Real_Value_Formatted'] = LatestData.apply(formatvalue, axis = 1)\n",
    "# Set the index of the dataframe to the code and then convert to a dictionary\n",
    "LatestData = LatestData.set_index('Code').to_dict(orient=\"index\")\n",
    "# Indicator data can now been accessed as below by referencing the code as the key within the dictionary\n",
    "LatestData['C&L 01']\n"
   ]
  },
  {
   "cell_type": "code",
   "execution_count": 40,
   "metadata": {},
   "outputs": [],
   "source": [
    "env = Environment(loader=FileSystemLoader('Templates_Jinja2'))"
   ]
  },
  {
   "cell_type": "code",
   "execution_count": 41,
   "metadata": {},
   "outputs": [],
   "source": [
    "def createGroupPage(pagename, layouttitle) :\n",
    "    template = env.get_template(layouttitle)\n",
    "    htmlout = template.render(LatestData = LatestData)\n",
    "    file = open(\"Pages_FinalReport/\" + pagename, \"w\")\n",
    "    file.write(htmlout)\n",
    "    file.close()\n",
    "\n",
    "def savetopdf (relativepath) :\n",
    "    chrome_options = webdriver.ChromeOptions()\n",
    "    #headless breaks the pdf outputting for some reason\n",
    "    chrome_options.add_argument(\"--headless\")\n",
    "    \n",
    "    #settings or prefs here need altered to specify A3, landscape, no header and footer and print css backgrounds. Ideally also download path so that changes are saved directly into a folder in the repo files.\n",
    "    settings = {\"recentDestinations\": [{\"id\": \"Save as PDF\", \"origin\": \"local\", \"account\": \"\"}], \"selectedDestinationId\": \"Save as PDF\", \"version\": 2}\n",
    "    prefs = {'printing.print_preview_sticky_settings.appState': json.dumps(settings)}\n",
    "    chrome_options.add_experimental_option('prefs', prefs)\n",
    "    chrome_options.add_argument('--kiosk-printing')\n",
    "    \n",
    "    #something here is depricated and requires replaced as per error output when used\n",
    "    browser = webdriver.Chrome(r\"C:\\\\Program Files\\\\Google\\\\Chrome\\\\Application\\\\chromedriver.exe\", options=chrome_options)\n",
    "    htmlfilepath = \"file:///\" +  os.path.abspath(relativepath)\n",
    "    browser.get(htmlfilepath)\n",
    "    browser.execute_script('window.print();')"
   ]
  },
  {
   "cell_type": "code",
   "execution_count": 42,
   "metadata": {},
   "outputs": [
    {
     "name": "stderr",
     "output_type": "stream",
     "text": [
      "<ipython-input-41-f87c046b25c9>:20: DeprecationWarning: executable_path has been deprecated, please pass in a Service object\n",
      "  browser = webdriver.Chrome(r\"C:\\\\Program Files\\\\Google\\\\Chrome\\\\Application\\\\chromedriver.exe\", options=chrome_options)\n"
     ]
    }
   ],
   "source": [
    "createGroupPage(\"Waste.html\",\"Layout_Waste.html\")\n",
    "savetopdf('./Pages_FinalReport/Waste.html')"
   ]
  }
 ],
 "metadata": {
  "kernelspec": {
   "display_name": "Python 3.9.4 64-bit",
   "language": "python",
   "name": "python3"
  },
  "language_info": {
   "codemirror_mode": {
    "name": "ipython",
    "version": 3
   },
   "file_extension": ".py",
   "mimetype": "text/x-python",
   "name": "python",
   "nbconvert_exporter": "python",
   "pygments_lexer": "ipython3",
   "version": "3.9.4"
  },
  "orig_nbformat": 4,
  "vscode": {
   "interpreter": {
    "hash": "c0cbc4b2f0a0e9ed4f273d703a9f520f78c51f933bdca4b42ac89bd1e55e1764"
   }
  }
 },
 "nbformat": 4,
 "nbformat_minor": 2
}
