{
 "cells": [
  {
   "cell_type": "code",
   "execution_count": 2,
   "metadata": {},
   "outputs": [],
   "source": [
    "import json\n",
    "import pandas as pd"
   ]
  },
  {
   "cell_type": "markdown",
   "metadata": {},
   "source": [
    "### Load All Data Files to DataFrames"
   ]
  },
  {
   "cell_type": "code",
   "execution_count": 11,
   "metadata": {},
   "outputs": [
    {
     "name": "stdout",
     "output_type": "stream",
     "text": [
      "Index(['Title', 'Code', 'Code_Sortable', 'ReportingPeriod', 'MeasureType',\n",
      "       'NumberFormat', 'YMin', 'YMax', 'ISCategory', 'Committee',\n",
      "       'FamilyGrouping', 'StirlingService', 'Ranking_Type',\n",
      "       'NumberFormat_NoText', 'Source', 'Numerator_Correct',\n",
      "       'Denominator_Correct', 'Numerator_Match', 'Denominator_Match',\n",
      "       'Numerator_Multipier', 'Denominator_Multiplier',\n",
      "       'Ranking_GoldilocksMidpoint', 'NumberFormat_Axis', 'Format_Python',\n",
      "       'FormatAxis_Python', 'AdditionalAxisDenominator_Python',\n",
      "       'FormatAxis_Plotly_Prefix', 'FormatAxis_Plotly_Suffix',\n",
      "       'ImgPxlWidth_Plotly', 'ImgPxlHeight_Plotly'],\n",
      "      dtype='object')\n",
      "Index(['Code', 'Period', 'ScotAv_LA_Real', 'ScotAv_LA_Num_Real',\n",
      "       'ScotAv_LA_Den_Real', 'ScotAv_NumDen_Real', 'ScotAv_LA_Cash',\n",
      "       'ScotAv_LA_Num_Cash', 'ScotAv_LA_Den_Cash', 'ScotAv_NumDen_Cash',\n",
      "       'Key_CodePeriod'],\n",
      "      dtype='object')\n"
     ]
    }
   ],
   "source": [
    "indicatorInfo = pd.read_csv(\"Data Files//Indicator Information.csv\")\n",
    "familyAverages = pd.read_csv(\"Data Files//Family Averages.csv\")\n",
    "data = pd.read_csv(\"Data Files//Indicator Data.csv\")\n",
    "scottishAverages = pd.read_csv(\"Data Files//Scottish Averages.csv\")\n",
    "scottishValues = pd.read_csv(\"Data Files//Scottish Values.csv\")\n",
    "\n",
    "print(indicatorInfo.columns)\n",
    "print(scottishAverages.columns)"
   ]
  },
  {
   "cell_type": "markdown",
   "metadata": {},
   "source": [
    "### Define Functions to Use with df.apply"
   ]
  },
  {
   "cell_type": "code",
   "execution_count": null,
   "metadata": {},
   "outputs": [],
   "source": [
    "def GetScotAverages(df) :\n",
    "    code ='\"' + df['Code_Sortable'] + '\"'\n",
    "    specificScotAverags = scottishAverages.query(f'Code == {code}')"
   ]
  }
 ],
 "metadata": {
  "kernelspec": {
   "display_name": "Python 3.9.4 64-bit",
   "language": "python",
   "name": "python3"
  },
  "language_info": {
   "codemirror_mode": {
    "name": "ipython",
    "version": 3
   },
   "file_extension": ".py",
   "mimetype": "text/x-python",
   "name": "python",
   "nbconvert_exporter": "python",
   "pygments_lexer": "ipython3",
   "version": "3.9.4"
  },
  "orig_nbformat": 4,
  "vscode": {
   "interpreter": {
    "hash": "c0cbc4b2f0a0e9ed4f273d703a9f520f78c51f933bdca4b42ac89bd1e55e1764"
   }
  }
 },
 "nbformat": 4,
 "nbformat_minor": 2
}
