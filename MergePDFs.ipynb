{
 "cells": [
  {
   "cell_type": "code",
   "execution_count": 5,
   "metadata": {},
   "outputs": [],
   "source": [
    "from PyPDF2 import PdfMerger"
   ]
  },
  {
   "cell_type": "code",
   "execution_count": 6,
   "metadata": {},
   "outputs": [],
   "source": [
    "FolderPath = 'Images/PDF/'\n",
    "# Establish ordered list of filenames here.\n",
    "pdfs = [\n",
    "    f'{FolderPath}00.FrontCover.html.pdf',\n",
    "    f'{FolderPath}01.Introduction.pdf',\n",
    "    f'{FolderPath}02.Contents.pdf',\n",
    "    f'{FolderPath}03.Aboutthisreport.pdf',\n",
    "    f'{FolderPath}04.FamilyGroups.pdf',\n",
    "    f'{FolderPath}05.Overview1.pdf',\n",
    "    f'{FolderPath}06.Overview2.pdf',\n",
    "    f'{FolderPath}07.Overview3.pdf',\n",
    "    f'{FolderPath}08.Group_Ab+Gen.pdf',\n",
    "    f'{FolderPath}09.Group_AdultHealthCare.pdf',\n",
    "    f'{FolderPath}10.Group_AtHomeCare.pdf',\n",
    "    f'{FolderPath}11.Group_Corp+Plan.pdf',\n",
    "    f'{FolderPath}12.Group_CostOfRegulation.pdf',\n",
    "    f'{FolderPath}13.Group_CTax+Housing.pdf',\n",
    "    f'{FolderPath}14.Group_EarlyYears.pdf',\n",
    "    f'{FolderPath}15.Group_EcoG.pdf',\n",
    "    f'{FolderPath}16.Group_Employment.pdf',\n",
    "    f'{FolderPath}17.Group_Financial.pdf',\n",
    "    f'{FolderPath}18.Group_Leisure+Attr.pdf',\n",
    "    f'{FolderPath}19.Group_Pa+Cl.pdf',\n",
    "    f'{FolderPath}20.Group_PropertyandAssets.pdf',\n",
    "    f'{FolderPath}21.Group_PS.pdf',\n",
    "    f'{FolderPath}22.Group_Roads.pdf',\n",
    "    f'{FolderPath}SchoolAttendance.pdf',\n",
    "    f'{FolderPath}SchoolLeaver.pdf',\n",
    "    f'{FolderPath}SecSchool.pdf',\n",
    "    f'{FolderPath}SocialWork.pdf',\n",
    "    f'{FolderPath}StreetCleaning.pdf',\n",
    "    f'{FolderPath}Waste.pdf',\n",
    "] \n",
    "merger = PdfMerger()\n",
    "for pdf in pdfs:\n",
    "    merger.append(pdf)\n",
    "merger.write(\"FinalReport.pdf\")\n",
    "merger.close()\n"
   ]
  }
 ],
 "metadata": {
  "kernelspec": {
   "display_name": "Python 3.9.2 64-bit",
   "language": "python",
   "name": "python3"
  },
  "language_info": {
   "codemirror_mode": {
    "name": "ipython",
    "version": 3
   },
   "file_extension": ".py",
   "mimetype": "text/x-python",
   "name": "python",
   "nbconvert_exporter": "python",
   "pygments_lexer": "ipython3",
   "version": "3.9.2"
  },
  "orig_nbformat": 4,
  "vscode": {
   "interpreter": {
    "hash": "082cb5a6e6caef79113e2314c0a6affd3a461b67b4107dd9944e1b636b56dc91"
   }
  }
 },
 "nbformat": 4,
 "nbformat_minor": 2
}
