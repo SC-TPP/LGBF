{
 "cells": [
  {
   "cell_type": "code",
   "execution_count": 72,
   "metadata": {},
   "outputs": [],
   "source": [
    "import pandas as pd\n",
    "import requests\n",
    "import re\n",
    "from IPython.display import display, HTML\n",
    "from bs4 import BeautifulSoup\n",
    "import io"
   ]
  },
  {
   "cell_type": "code",
   "execution_count": 73,
   "metadata": {},
   "outputs": [],
   "source": [
    "def displaywithHeader(df, title) :\n",
    "    display(HTML(f'<h3>{title}</h3>'))\n",
    "    display(df.head(3))"
   ]
  },
  {
   "cell_type": "markdown",
   "metadata": {},
   "source": [
    "### Get Family Group Table Information from the Improvement Service's Website"
   ]
  },
  {
   "cell_type": "code",
   "execution_count": 74,
   "metadata": {},
   "outputs": [
    {
     "data": {
      "text/html": [
       "<h3>FamilyGroups_CSWH</h3>"
      ],
      "text/plain": [
       "<IPython.core.display.HTML object>"
      ]
     },
     "metadata": {},
     "output_type": "display_data"
    },
    {
     "data": {
      "text/html": [
       "<div>\n",
       "<style scoped>\n",
       "    .dataframe tbody tr th:only-of-type {\n",
       "        vertical-align: middle;\n",
       "    }\n",
       "\n",
       "    .dataframe tbody tr th {\n",
       "        vertical-align: top;\n",
       "    }\n",
       "\n",
       "    .dataframe thead th {\n",
       "        text-align: right;\n",
       "    }\n",
       "</style>\n",
       "<table border=\"1\" class=\"dataframe\">\n",
       "  <thead>\n",
       "    <tr style=\"text-align: right;\">\n",
       "      <th></th>\n",
       "      <th>Family Group 1</th>\n",
       "      <th>Family Group 2</th>\n",
       "      <th>Family Group 3</th>\n",
       "      <th>Family Group 4</th>\n",
       "    </tr>\n",
       "  </thead>\n",
       "  <tbody>\n",
       "    <tr>\n",
       "      <th>0</th>\n",
       "      <td>East Renfrewshire;East Dunbartonshire;Aberdeen...</td>\n",
       "      <td>Moray;Stirling;East Lothian;Angus;Scottish Bor...</td>\n",
       "      <td>Falkirk;Dumfries &amp; Galloway;Fife;South Ayrshir...</td>\n",
       "      <td>Eilean Siar;Dundee City;East Ayrshire;North Ay...</td>\n",
       "    </tr>\n",
       "  </tbody>\n",
       "</table>\n",
       "</div>"
      ],
      "text/plain": [
       "                                      Family Group 1  \\\n",
       "0  East Renfrewshire;East Dunbartonshire;Aberdeen...   \n",
       "\n",
       "                                      Family Group 2  \\\n",
       "0  Moray;Stirling;East Lothian;Angus;Scottish Bor...   \n",
       "\n",
       "                                      Family Group 3  \\\n",
       "0  Falkirk;Dumfries & Galloway;Fife;South Ayrshir...   \n",
       "\n",
       "                                      Family Group 4  \n",
       "0  Eilean Siar;Dundee City;East Ayrshire;North Ay...  "
      ]
     },
     "metadata": {},
     "output_type": "display_data"
    },
    {
     "data": {
      "text/html": [
       "<h3>FamilyGroups_ECLEDC</h3>"
      ],
      "text/plain": [
       "<IPython.core.display.HTML object>"
      ]
     },
     "metadata": {},
     "output_type": "display_data"
    },
    {
     "data": {
      "text/html": [
       "<div>\n",
       "<style scoped>\n",
       "    .dataframe tbody tr th:only-of-type {\n",
       "        vertical-align: middle;\n",
       "    }\n",
       "\n",
       "    .dataframe tbody tr th {\n",
       "        vertical-align: top;\n",
       "    }\n",
       "\n",
       "    .dataframe thead th {\n",
       "        text-align: right;\n",
       "    }\n",
       "</style>\n",
       "<table border=\"1\" class=\"dataframe\">\n",
       "  <thead>\n",
       "    <tr style=\"text-align: right;\">\n",
       "      <th></th>\n",
       "      <th>Family Group 1</th>\n",
       "      <th>Family Group 2</th>\n",
       "      <th>Family Group 3</th>\n",
       "      <th>Family Group 4</th>\n",
       "    </tr>\n",
       "  </thead>\n",
       "  <tbody>\n",
       "    <tr>\n",
       "      <th>0</th>\n",
       "      <td>Eilean Siar;Argyll &amp; Bute;Shetland Islands;Hig...</td>\n",
       "      <td>Perth &amp; Kinross;Stirling;Moray;South Ayrshire;...</td>\n",
       "      <td>Angus;Clackmannanshire;Midlothian;South Lanark...</td>\n",
       "      <td>North Lanarkshire;Falkirk;East Dunbartonshire;...</td>\n",
       "    </tr>\n",
       "  </tbody>\n",
       "</table>\n",
       "</div>"
      ],
      "text/plain": [
       "                                      Family Group 1  \\\n",
       "0  Eilean Siar;Argyll & Bute;Shetland Islands;Hig...   \n",
       "\n",
       "                                      Family Group 2  \\\n",
       "0  Perth & Kinross;Stirling;Moray;South Ayrshire;...   \n",
       "\n",
       "                                      Family Group 3  \\\n",
       "0  Angus;Clackmannanshire;Midlothian;South Lanark...   \n",
       "\n",
       "                                      Family Group 4  \n",
       "0  North Lanarkshire;Falkirk;East Dunbartonshire;...  "
      ]
     },
     "metadata": {},
     "output_type": "display_data"
    }
   ],
   "source": [
    "# Get Page HTML\n",
    "html = requests.get('https://www.improvementservice.org.uk/benchmarking/how-do-we-compare-councils').content\n",
    "html = BeautifulSoup(html, \"lxml\")\n",
    "tables = html.findAll(\"table\")\n",
    "tables_list = []\n",
    "for table in tables :\n",
    "    table_str = str(table)\n",
    "    table_str = table_str.replace('<br/>',';')\n",
    "    tables_list.append(io.StringIO(table_str))\n",
    "    \n",
    "FamilyGroups_CSWH = pd.read_html(tables_list[0])[0]\n",
    "FamilyGroups_ECLEDC = pd.read_html(tables_list[1])[0]\n",
    "\n",
    "displaywithHeader(FamilyGroups_CSWH,'FamilyGroups_CSWH')\n",
    "displaywithHeader(FamilyGroups_ECLEDC,'FamilyGroups_ECLEDC')"
   ]
  },
  {
   "cell_type": "markdown",
   "metadata": {},
   "source": [
    "### Unpivot the Data"
   ]
  },
  {
   "cell_type": "code",
   "execution_count": 75,
   "metadata": {},
   "outputs": [
    {
     "data": {
      "text/html": [
       "<h3>FamilyGroups_CSWH</h3>"
      ],
      "text/plain": [
       "<IPython.core.display.HTML object>"
      ]
     },
     "metadata": {},
     "output_type": "display_data"
    },
    {
     "data": {
      "text/html": [
       "<div>\n",
       "<style scoped>\n",
       "    .dataframe tbody tr th:only-of-type {\n",
       "        vertical-align: middle;\n",
       "    }\n",
       "\n",
       "    .dataframe tbody tr th {\n",
       "        vertical-align: top;\n",
       "    }\n",
       "\n",
       "    .dataframe thead th {\n",
       "        text-align: right;\n",
       "    }\n",
       "</style>\n",
       "<table border=\"1\" class=\"dataframe\">\n",
       "  <thead>\n",
       "    <tr style=\"text-align: right;\">\n",
       "      <th></th>\n",
       "      <th>Family_Group</th>\n",
       "      <th>Local_Authority</th>\n",
       "    </tr>\n",
       "  </thead>\n",
       "  <tbody>\n",
       "    <tr>\n",
       "      <th>0</th>\n",
       "      <td>Family Group 1</td>\n",
       "      <td>East Renfrewshire;East Dunbartonshire;Aberdeen...</td>\n",
       "    </tr>\n",
       "    <tr>\n",
       "      <th>1</th>\n",
       "      <td>Family Group 2</td>\n",
       "      <td>Moray;Stirling;East Lothian;Angus;Scottish Bor...</td>\n",
       "    </tr>\n",
       "    <tr>\n",
       "      <th>2</th>\n",
       "      <td>Family Group 3</td>\n",
       "      <td>Falkirk;Dumfries &amp; Galloway;Fife;South Ayrshir...</td>\n",
       "    </tr>\n",
       "  </tbody>\n",
       "</table>\n",
       "</div>"
      ],
      "text/plain": [
       "     Family_Group                                    Local_Authority\n",
       "0  Family Group 1  East Renfrewshire;East Dunbartonshire;Aberdeen...\n",
       "1  Family Group 2  Moray;Stirling;East Lothian;Angus;Scottish Bor...\n",
       "2  Family Group 3  Falkirk;Dumfries & Galloway;Fife;South Ayrshir..."
      ]
     },
     "metadata": {},
     "output_type": "display_data"
    },
    {
     "data": {
      "text/html": [
       "<h3>FamilyGroups_ECLEDC</h3>"
      ],
      "text/plain": [
       "<IPython.core.display.HTML object>"
      ]
     },
     "metadata": {},
     "output_type": "display_data"
    },
    {
     "data": {
      "text/html": [
       "<div>\n",
       "<style scoped>\n",
       "    .dataframe tbody tr th:only-of-type {\n",
       "        vertical-align: middle;\n",
       "    }\n",
       "\n",
       "    .dataframe tbody tr th {\n",
       "        vertical-align: top;\n",
       "    }\n",
       "\n",
       "    .dataframe thead th {\n",
       "        text-align: right;\n",
       "    }\n",
       "</style>\n",
       "<table border=\"1\" class=\"dataframe\">\n",
       "  <thead>\n",
       "    <tr style=\"text-align: right;\">\n",
       "      <th></th>\n",
       "      <th>Family_Group</th>\n",
       "      <th>Local_Authority</th>\n",
       "    </tr>\n",
       "  </thead>\n",
       "  <tbody>\n",
       "    <tr>\n",
       "      <th>0</th>\n",
       "      <td>Family Group 1</td>\n",
       "      <td>Eilean Siar;Argyll &amp; Bute;Shetland Islands;Hig...</td>\n",
       "    </tr>\n",
       "    <tr>\n",
       "      <th>1</th>\n",
       "      <td>Family Group 2</td>\n",
       "      <td>Perth &amp; Kinross;Stirling;Moray;South Ayrshire;...</td>\n",
       "    </tr>\n",
       "    <tr>\n",
       "      <th>2</th>\n",
       "      <td>Family Group 3</td>\n",
       "      <td>Angus;Clackmannanshire;Midlothian;South Lanark...</td>\n",
       "    </tr>\n",
       "  </tbody>\n",
       "</table>\n",
       "</div>"
      ],
      "text/plain": [
       "     Family_Group                                    Local_Authority\n",
       "0  Family Group 1  Eilean Siar;Argyll & Bute;Shetland Islands;Hig...\n",
       "1  Family Group 2  Perth & Kinross;Stirling;Moray;South Ayrshire;...\n",
       "2  Family Group 3  Angus;Clackmannanshire;Midlothian;South Lanark..."
      ]
     },
     "metadata": {},
     "output_type": "display_data"
    }
   ],
   "source": [
    "FamilyGroups_ECLEDC = FamilyGroups_ECLEDC.assign(id= 1)\n",
    "FamilyGroups_ECLEDC = pd.melt(FamilyGroups_ECLEDC, id_vars=['id'], value_vars=['Family Group 1', 'Family Group 2', 'Family Group 3', 'Family Group 4'],var_name='Family_Group', value_name='Local_Authority')\n",
    "FamilyGroups_ECLEDC = FamilyGroups_ECLEDC.drop(columns = ['id'])\n",
    "\n",
    "FamilyGroups_CSWH = FamilyGroups_CSWH.assign(id= 1)\n",
    "FamilyGroups_CSWH = pd.melt(FamilyGroups_CSWH, id_vars=['id'], value_vars=['Family Group 1', 'Family Group 2', 'Family Group 3', 'Family Group 4'],var_name='Family_Group', value_name='Local_Authority')\n",
    "FamilyGroups_CSWH = FamilyGroups_CSWH.drop(columns = ['id'])\n",
    "\n",
    "displaywithHeader(FamilyGroups_CSWH,'FamilyGroups_CSWH')\n",
    "displaywithHeader(FamilyGroups_ECLEDC,'FamilyGroups_ECLEDC')"
   ]
  },
  {
   "cell_type": "markdown",
   "metadata": {},
   "source": [
    "### Split Into Rows"
   ]
  },
  {
   "cell_type": "code",
   "execution_count": 76,
   "metadata": {},
   "outputs": [
    {
     "data": {
      "text/html": [
       "<h3>FamilyGroups_CSWH</h3>"
      ],
      "text/plain": [
       "<IPython.core.display.HTML object>"
      ]
     },
     "metadata": {},
     "output_type": "display_data"
    },
    {
     "data": {
      "text/html": [
       "<div>\n",
       "<style scoped>\n",
       "    .dataframe tbody tr th:only-of-type {\n",
       "        vertical-align: middle;\n",
       "    }\n",
       "\n",
       "    .dataframe tbody tr th {\n",
       "        vertical-align: top;\n",
       "    }\n",
       "\n",
       "    .dataframe thead th {\n",
       "        text-align: right;\n",
       "    }\n",
       "</style>\n",
       "<table border=\"1\" class=\"dataframe\">\n",
       "  <thead>\n",
       "    <tr style=\"text-align: right;\">\n",
       "      <th></th>\n",
       "      <th>Family_Group</th>\n",
       "      <th>Local_Authority</th>\n",
       "    </tr>\n",
       "  </thead>\n",
       "  <tbody>\n",
       "    <tr>\n",
       "      <th>0</th>\n",
       "      <td>Family Group 1</td>\n",
       "      <td>East Renfrewshire</td>\n",
       "    </tr>\n",
       "    <tr>\n",
       "      <th>0</th>\n",
       "      <td>Family Group 1</td>\n",
       "      <td>East Dunbartonshire</td>\n",
       "    </tr>\n",
       "    <tr>\n",
       "      <th>0</th>\n",
       "      <td>Family Group 1</td>\n",
       "      <td>Aberdeenshire</td>\n",
       "    </tr>\n",
       "  </tbody>\n",
       "</table>\n",
       "</div>"
      ],
      "text/plain": [
       "     Family_Group      Local_Authority\n",
       "0  Family Group 1    East Renfrewshire\n",
       "0  Family Group 1  East Dunbartonshire\n",
       "0  Family Group 1        Aberdeenshire"
      ]
     },
     "metadata": {},
     "output_type": "display_data"
    },
    {
     "data": {
      "text/html": [
       "<h3>FamilyGroups_ECLEDC</h3>"
      ],
      "text/plain": [
       "<IPython.core.display.HTML object>"
      ]
     },
     "metadata": {},
     "output_type": "display_data"
    },
    {
     "data": {
      "text/html": [
       "<div>\n",
       "<style scoped>\n",
       "    .dataframe tbody tr th:only-of-type {\n",
       "        vertical-align: middle;\n",
       "    }\n",
       "\n",
       "    .dataframe tbody tr th {\n",
       "        vertical-align: top;\n",
       "    }\n",
       "\n",
       "    .dataframe thead th {\n",
       "        text-align: right;\n",
       "    }\n",
       "</style>\n",
       "<table border=\"1\" class=\"dataframe\">\n",
       "  <thead>\n",
       "    <tr style=\"text-align: right;\">\n",
       "      <th></th>\n",
       "      <th>Family_Group</th>\n",
       "      <th>Local_Authority</th>\n",
       "    </tr>\n",
       "  </thead>\n",
       "  <tbody>\n",
       "    <tr>\n",
       "      <th>0</th>\n",
       "      <td>Family Group 1</td>\n",
       "      <td>Eilean Siar</td>\n",
       "    </tr>\n",
       "    <tr>\n",
       "      <th>0</th>\n",
       "      <td>Family Group 1</td>\n",
       "      <td>Argyll &amp; Bute</td>\n",
       "    </tr>\n",
       "    <tr>\n",
       "      <th>0</th>\n",
       "      <td>Family Group 1</td>\n",
       "      <td>Shetland Islands</td>\n",
       "    </tr>\n",
       "  </tbody>\n",
       "</table>\n",
       "</div>"
      ],
      "text/plain": [
       "     Family_Group   Local_Authority\n",
       "0  Family Group 1       Eilean Siar\n",
       "0  Family Group 1     Argyll & Bute\n",
       "0  Family Group 1  Shetland Islands"
      ]
     },
     "metadata": {},
     "output_type": "display_data"
    }
   ],
   "source": [
    "FamilyGroups_CSWH['Local_Authority'] = FamilyGroups_CSWH['Local_Authority'].str.split(';')\n",
    "FamilyGroups_CSWH = FamilyGroups_CSWH.explode('Local_Authority')\n",
    "\n",
    "FamilyGroups_ECLEDC['Local_Authority'] = FamilyGroups_ECLEDC['Local_Authority'].str.split(';')\n",
    "FamilyGroups_ECLEDC = FamilyGroups_ECLEDC.explode('Local_Authority')\n",
    "\n",
    "displaywithHeader(FamilyGroups_CSWH,'FamilyGroups_CSWH')\n",
    "displaywithHeader(FamilyGroups_ECLEDC,'FamilyGroups_ECLEDC')"
   ]
  },
  {
   "cell_type": "markdown",
   "metadata": {},
   "source": [
    "### Add Type and Append"
   ]
  },
  {
   "cell_type": "code",
   "execution_count": 77,
   "metadata": {},
   "outputs": [
    {
     "data": {
      "text/html": [
       "<h3>Family_Groups</h3>"
      ],
      "text/plain": [
       "<IPython.core.display.HTML object>"
      ]
     },
     "metadata": {},
     "output_type": "display_data"
    },
    {
     "data": {
      "text/html": [
       "<div>\n",
       "<style scoped>\n",
       "    .dataframe tbody tr th:only-of-type {\n",
       "        vertical-align: middle;\n",
       "    }\n",
       "\n",
       "    .dataframe tbody tr th {\n",
       "        vertical-align: top;\n",
       "    }\n",
       "\n",
       "    .dataframe thead th {\n",
       "        text-align: right;\n",
       "    }\n",
       "</style>\n",
       "<table border=\"1\" class=\"dataframe\">\n",
       "  <thead>\n",
       "    <tr style=\"text-align: right;\">\n",
       "      <th></th>\n",
       "      <th>Family_Group</th>\n",
       "      <th>Local_Authority</th>\n",
       "      <th>Type</th>\n",
       "    </tr>\n",
       "  </thead>\n",
       "  <tbody>\n",
       "    <tr>\n",
       "      <th>0</th>\n",
       "      <td>Family Group 1</td>\n",
       "      <td>Eilean Siar</td>\n",
       "      <td>Environmental, Culture &amp; Leisure, Economic Dev...</td>\n",
       "    </tr>\n",
       "    <tr>\n",
       "      <th>0</th>\n",
       "      <td>Family Group 1</td>\n",
       "      <td>Argyll &amp; Bute</td>\n",
       "      <td>Environmental, Culture &amp; Leisure, Economic Dev...</td>\n",
       "    </tr>\n",
       "    <tr>\n",
       "      <th>0</th>\n",
       "      <td>Family Group 1</td>\n",
       "      <td>Shetland Islands</td>\n",
       "      <td>Environmental, Culture &amp; Leisure, Economic Dev...</td>\n",
       "    </tr>\n",
       "  </tbody>\n",
       "</table>\n",
       "</div>"
      ],
      "text/plain": [
       "     Family_Group   Local_Authority  \\\n",
       "0  Family Group 1       Eilean Siar   \n",
       "0  Family Group 1     Argyll & Bute   \n",
       "0  Family Group 1  Shetland Islands   \n",
       "\n",
       "                                                Type  \n",
       "0  Environmental, Culture & Leisure, Economic Dev...  \n",
       "0  Environmental, Culture & Leisure, Economic Dev...  \n",
       "0  Environmental, Culture & Leisure, Economic Dev...  "
      ]
     },
     "metadata": {},
     "output_type": "display_data"
    }
   ],
   "source": [
    "FamilyGroups_CSWH['Type'] = 'Children, Social Work and Housing indicators'\n",
    "FamilyGroups_ECLEDC['Type'] = 'Environmental, Culture & Leisure, Economic Development, Corporate and Property indicators'\n",
    "\n",
    "Family_Groups = pd.concat([FamilyGroups_ECLEDC, FamilyGroups_CSWH])\n",
    "\n",
    "#There is a mismatch between the naming of Edinburgh on the Improvement Services Family Groupings web page and the naming in the raw data file. Replace the text here to allow merges with the raw data file later.\n",
    "Family_Groups['Local_Authority'] = Family_Groups['Local_Authority'].str.replace('Edinburgh, City of','Edinburgh City')\n",
    "\n",
    "displaywithHeader(Family_Groups,'Family_Groups')"
   ]
  },
  {
   "cell_type": "code",
   "execution_count": 78,
   "metadata": {},
   "outputs": [],
   "source": [
    "Family_Groups.to_csv(\"Data Files//Family Groups.csv\", index = False, encoding='utf-8-sig')"
   ]
  }
 ],
 "metadata": {
  "kernelspec": {
   "display_name": "Python 3.9.2 64-bit",
   "language": "python",
   "name": "python3"
  },
  "language_info": {
   "codemirror_mode": {
    "name": "ipython",
    "version": 3
   },
   "file_extension": ".py",
   "mimetype": "text/x-python",
   "name": "python",
   "nbconvert_exporter": "python",
   "pygments_lexer": "ipython3",
   "version": "3.12.1"
  },
  "orig_nbformat": 4,
  "vscode": {
   "interpreter": {
    "hash": "082cb5a6e6caef79113e2314c0a6affd3a461b67b4107dd9944e1b636b56dc91"
   }
  }
 },
 "nbformat": 4,
 "nbformat_minor": 2
}
