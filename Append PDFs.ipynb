{
 "cells": [
  {
   "cell_type": "code",
   "execution_count": null,
   "metadata": {},
   "outputs": [],
   "source": [
    "import fitz\n",
    "import os"
   ]
  },
  {
   "cell_type": "code",
   "execution_count": null,
   "metadata": {},
   "outputs": [],
   "source": [
    "FinalReport = fitz.open()\n",
    "path = 'Images/PDF'\n",
    "PDFDirectory = os.fsencode('Images/PDF')\n",
    "pdfs = []\n",
    "for file in os.listdir(PDFDirectory):\n",
    "    filename = os.fsdecode(file)\n",
    "    pdfs.append(f'{path}/{filename}')\n",
    "pdfs\n",
    "for pdf in pdfs:\n",
    "    currentpdf = fitz.open(pdf)\n",
    "    FinalReport.insert_pdf(currentpdf)\n",
    "    currentpdf.close()\n",
    "\n",
    "FinalReport.save('FinalReport.pdf', garbage=4, deflate=True, clean=True)"
   ]
  }
 ],
 "metadata": {
  "kernelspec": {
   "display_name": "Python 3.10.4 64-bit",
   "language": "python",
   "name": "python3"
  },
  "language_info": {
   "codemirror_mode": {
    "name": "ipython",
    "version": 3
   },
   "file_extension": ".py",
   "mimetype": "text/x-python",
   "name": "python",
   "nbconvert_exporter": "python",
   "pygments_lexer": "ipython3",
   "version": "3.9.2"
  },
  "orig_nbformat": 4,
  "vscode": {
   "interpreter": {
    "hash": "57b7d91548a1243ff1893d8162ffc4c1c9294fa77ec019dc5bbf479b621140b7"
   }
  }
 },
 "nbformat": 4,
 "nbformat_minor": 2
}
